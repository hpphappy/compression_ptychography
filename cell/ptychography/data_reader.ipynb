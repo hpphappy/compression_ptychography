{
 "cells": [
  {
   "cell_type": "code",
   "execution_count": 1,
   "metadata": {},
   "outputs": [
    {
     "name": "stdout",
     "output_type": "stream",
     "text": [
      "(325, 325, 1, 2)\n",
      "(2, 325, 325, 1, 2)\n",
      "0.022671270349117024\n",
      "0.0\n",
      "1.5965119986074065e-07\n",
      "2.6078479575232847e-13\n",
      "1.5965119986074065e-07\n",
      "-0.05071901969114472\n"
     ]
    }
   ],
   "source": [
    "import matplotlib.pyplot as plt\n",
    "import numpy as np\n",
    "import h5py\n",
    "import os\n",
    "\n",
    "save_path = 'n1e4'\n",
    "f_o = 'obj_checkpoint.npy'\n",
    "f_p = 'opt_params_checkpoint.npy'\n",
    "\n",
    "dest_obj = os.path.join(save_path,f_o)\n",
    "dest_obj_params = os.path.join(save_path, f_p)\n",
    "recon_obj = np.load(dest_obj)\n",
    "recon_params = np.load(dest_obj_params)\n",
    "\n",
    "print(recon_obj.shape)\n",
    "print(recon_params.shape)\n",
    "\n",
    "print(np.average(recon_obj[:,:,:,0]))\n",
    "print(np.average(recon_obj[:,:,:,1]))\n",
    "\n",
    "print(np.average(recon_params[0,:,:,:,0]))\n",
    "print(np.average(recon_params[1,:,:,:,0]))\n",
    "\n",
    "print(np.average(recon_params[0,:,:,:,0]))\n",
    "print(np.average(recon_params[0,:,:,:,1]))"
   ]
  },
  {
   "cell_type": "code",
   "execution_count": null,
   "metadata": {},
   "outputs": [],
   "source": []
  }
 ],
 "metadata": {
  "kernelspec": {
   "display_name": "Python 3",
   "language": "python",
   "name": "python3"
  },
  "language_info": {
   "codemirror_mode": {
    "name": "ipython",
    "version": 3
   },
   "file_extension": ".py",
   "mimetype": "text/x-python",
   "name": "python",
   "nbconvert_exporter": "python",
   "pygments_lexer": "ipython3",
   "version": "3.7.3"
  }
 },
 "nbformat": 4,
 "nbformat_minor": 4
}
